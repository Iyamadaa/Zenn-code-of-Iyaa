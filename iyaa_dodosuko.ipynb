{
  "nbformat": 4,
  "nbformat_minor": 0,
  "metadata": {
    "colab": {
      "provenance": [],
      "authorship_tag": "ABX9TyOoSim8cGBOwgQaCOpNI4fM",
      "include_colab_link": true
    },
    "kernelspec": {
      "name": "python3",
      "display_name": "Python 3"
    },
    "language_info": {
      "name": "python"
    }
  },
  "cells": [
    {
      "cell_type": "markdown",
      "metadata": {
        "id": "view-in-github",
        "colab_type": "text"
      },
      "source": [
        "<a href=\"https://colab.research.google.com/github/Iyamadaa/Zenn-code-of-Iyaa/blob/main/iyaa_dodosuko.ipynb\" target=\"_parent\"><img src=\"https://colab.research.google.com/assets/colab-badge.svg\" alt=\"Open In Colab\"/></a>"
      ]
    },
    {
      "cell_type": "code",
      "execution_count": null,
      "metadata": {
        "id": "Nrz4NwcAUbW_"
      },
      "outputs": [],
      "source": [
        "import random as r;c=15\n",
        "while c%4096^1911:c=c*2+r.randrange(2);print([\"ドド\",\"スコ\"][c%2])\n",
        "print(\"ラブ注入♡\")"
      ]
    },
    {
      "cell_type": "code",
      "source": [
        "import random\n",
        "\n",
        "DOSU = [\"ドド\", \"スコ\"]\n",
        "requested_text = \"ドドスコスコスコ\"*3\n",
        "output_text = \"\"\n",
        "\n",
        "while True:\n",
        "    #乱数を生成、出力\n",
        "    dosu_selected = random.randrange(2)\n",
        "    print(DOSU[dosu_selected])\n",
        "    output_text += DOSU[dosu_selected]\n",
        "\n",
        "    #条件を満たせばラブ注入\n",
        "    if output_text[-24:] == requested_text:\n",
        "        print(\"ラブ注入♡\")\n",
        "        break"
      ],
      "metadata": {
        "id": "PThFsiOBUdDO"
      },
      "execution_count": null,
      "outputs": []
    },
    {
      "cell_type": "code",
      "source": [
        "import random\n",
        "\n",
        "DOSU = [\"ドド\", \"スコ\"]\n",
        "requested_pattern = [0, 1, 1, 1, 0, 1, 1, 1, 0, 1, 1, 1]\n",
        "output_pattern = list()\n",
        "#文字列の代わりにリストを用いる\n",
        "\n",
        "while True:\n",
        "    #乱数を生成、出力、記録\n",
        "    dosu_selected = random.randrange(2)\n",
        "    print(DOSU[dosu_selected])\n",
        "    output_pattern.append(dosu_selected)\n",
        "\n",
        "    #条件を満たせばラブ注入\n",
        "    if output_pattern[-12:] == requested_pattern:\n",
        "        print(\"ラブ注入♡\")\n",
        "        break"
      ],
      "metadata": {
        "id": "qnlWnJ2IBrMX"
      },
      "execution_count": null,
      "outputs": []
    },
    {
      "cell_type": "code",
      "source": [
        "import random\n",
        "\n",
        "#注意　このコードは正しいドドスコを出力しません\n",
        "\n",
        "DOSU = [\"ドド\", \"スコ\"]\n",
        "requested_pattern = 0b011101110111 #二進法で1911のこと\n",
        "counter = 0\n",
        "\n",
        "while True:\n",
        "    #乱数を生成、出力、記録\n",
        "    dosu_selected = random.randrange(2)\n",
        "    print(DOSU[dosu_selected])\n",
        "    counter = counter*2 + dosu_selected\n",
        "\n",
        "    #条件を満たせばラブ注入\n",
        "    if counter%4096 == requested_pattern:\n",
        "        print(\"ラブ注入♡\")\n",
        "        break"
      ],
      "metadata": {
        "id": "WqI7s_KBqKmV"
      },
      "execution_count": null,
      "outputs": []
    },
    {
      "cell_type": "code",
      "source": [
        "import random\n",
        "\n",
        "DOSU = [\"ドド\", \"スコ\"]\n",
        "requested_pattern = 0b011101110111\n",
        "counter = 15\n",
        "\n",
        "while True:\n",
        "    #乱数を生成、出力、記録\n",
        "    dosu_selected = random.randrange(2)\n",
        "    print(DOSU[dosu_selected])\n",
        "    counter = counter*2 + dosu_selected\n",
        "\n",
        "    #条件を満たせばラブ注入\n",
        "    if counter%4096 == requested_pattern:\n",
        "        print(\"ラブ注入♡\")\n",
        "        break"
      ],
      "metadata": {
        "id": "_0OC6M7g03xo"
      },
      "execution_count": null,
      "outputs": []
    },
    {
      "cell_type": "code",
      "source": [
        "import random as r\n",
        "\n",
        "c = 15\n",
        "\n",
        "while c%4096 != 1911:\n",
        "    dosu_selected = r.randrange(2)\n",
        "    c = c*2 + dosu_selected\n",
        "    print([\"ドド\", \"スコ\"][dosu_selected])\n",
        "\n",
        "print(\"ラブ注入♡\")"
      ],
      "metadata": {
        "id": "OoVUmW9-055A"
      },
      "execution_count": null,
      "outputs": []
    },
    {
      "cell_type": "code",
      "source": [
        "import random as r\n",
        "\n",
        "c = 15\n",
        "\n",
        "while c%4096 != 1911:\n",
        "    c = c*2 + r.randrange(2)\n",
        "    print([\"ドド\", \"スコ\"][c%2])\n",
        "\n",
        "print(\"ラブ注入♡\")"
      ],
      "metadata": {
        "id": "5TyKBOy18gxF"
      },
      "execution_count": null,
      "outputs": []
    },
    {
      "cell_type": "code",
      "source": [
        "import random as r\n",
        "\n",
        "c = 15\n",
        "\n",
        "while c%4096 ^ 1911:\n",
        "    c = c*2 + r.randrange(2)\n",
        "    print([\"ドド\", \"スコ\"][c%2])\n",
        "\n",
        "print(\"ラブ注入♡\")"
      ],
      "metadata": {
        "id": "ZgdKisfj_yVz"
      },
      "execution_count": null,
      "outputs": []
    },
    {
      "cell_type": "code",
      "source": [
        "import random as r;c=15\n",
        "while c%4096^1911:c=c*2+r.randrange(2);print([\"ドド\",\"スコ\"][c%2])\n",
        "print(\"ラブ注入♡\")"
      ],
      "metadata": {
        "id": "inWzidFrYL4H"
      },
      "execution_count": null,
      "outputs": []
    },
    {
      "cell_type": "code",
      "source": [
        "my_thank = \"Thank You!\"\n",
        "for you in my_thank:\n",
        "    print(you, end=\"\")"
      ],
      "metadata": {
        "id": "ByBsdwR-YkLx"
      },
      "execution_count": null,
      "outputs": []
    }
  ]
}